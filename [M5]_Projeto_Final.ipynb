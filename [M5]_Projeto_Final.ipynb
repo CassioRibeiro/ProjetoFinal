{
  "nbformat": 4,
  "nbformat_minor": 0,
  "metadata": {
    "colab": {
      "provenance": [],
      "toc_visible": true,
      "authorship_tag": "ABX9TyNlKiPjj7yPNdTQ45fyR4bM",
      "include_colab_link": true
    },
    "kernelspec": {
      "name": "python3",
      "display_name": "Python 3"
    },
    "language_info": {
      "name": "python"
    }
  },
  "cells": [
    {
      "cell_type": "markdown",
      "metadata": {
        "id": "view-in-github",
        "colab_type": "text"
      },
      "source": [
        "<a href=\"https://colab.research.google.com/github/CassioRibeiro/ProjetoFinal/blob/main/%5BM5%5D_Projeto_Final.ipynb\" target=\"_parent\"><img src=\"https://colab.research.google.com/assets/colab-badge.svg\" alt=\"Open In Colab\"/></a>"
      ]
    },
    {
      "cell_type": "markdown",
      "source": [
        "# Criptomoedas\n",
        "---\n",
        "- SENAC/RESILIA - Formação em Análise de Dados (FAD) - Projeto em Grupo - Módulo 5\n",
        "- !/usr/bin/env python3 - versão = 3.11(64-bit) - (-*- coding:utf-8-*-)\n",
        "- Criado por: Cássio Cristiano Pereira Ribeiro, Diego de Arruda Nieto, Douglas Klem Portugal do Amaral e Stephanie Ferreira Vale\n",
        "- Data de criação: 20/06/2023\n",
        "---"
      ],
      "metadata": {
        "id": "YIrokXqCqt0t"
      }
    },
    {
      "cell_type": "code",
      "execution_count": null,
      "metadata": {
        "id": "XCY8fhdBqm7k"
      },
      "outputs": [],
      "source": [
        "# importando as bibliotecas que vamos utilizar\n",
        "import pandas as pd\n",
        "import numpy as np"
      ]
    },
    {
      "cell_type": "code",
      "source": [
        "# salvando em variáveis todos os arquivos csv das criptomoedas\n",
        "bitcoin=pd.read_csv('/content/bitcoin_usd_gwa.csv')\n",
        "btc=pd.read_csv('/content/btccash_usd_gwa.csv')\n",
        "cardano=pd.read_csv('/content/cardano_usd_gwa.csv')\n",
        "dash=pd.read_csv('/content/dash_usd_gwa.csv')\n",
        "ethereum=pd.read_csv('/content/ethereum_usd_gwa.csv')\n",
        "iota=pd.read_csv('/content/iota_usd_gwa.csv')\n",
        "litecoin=pd.read_csv('/content/litecoin_usd_gwa.csv')\n",
        "monero=pd.read_csv('/content/monero_usd_gwa.csv')\n",
        "nem=pd.read_csv('/content/nem_usd_gwa.csv')\n",
        "ripple=pd.read_csv('/content/ripple_usd_gwa.csv')"
      ],
      "metadata": {
        "id": "RvE_j3xZVJPt"
      },
      "execution_count": null,
      "outputs": []
    },
    {
      "cell_type": "code",
      "source": [
        "# removendo colunas desnecessárias\n",
        "bitcoin=bitcoin.drop('Unnamed: 0', axis=1)\n",
        "btc=btc.drop('Unnamed: 0', axis=1)\n",
        "cardano=cardano.drop('Unnamed: 0', axis=1)\n",
        "dash=dash.drop('Unnamed: 0', axis=1)\n",
        "ethereum=ethereum.drop('Unnamed: 0', axis=1)\n",
        "iota=iota.drop('Unnamed: 0', axis=1)\n",
        "litecoin=litecoin.drop('Unnamed: 0', axis=1)\n",
        "monero=monero.drop('Unnamed: 0', axis=1)\n",
        "nem=nem.drop('Unnamed: 0', axis=1)\n",
        "ripple=ripple.drop('Unnamed: 0', axis=1)"
      ],
      "metadata": {
        "id": "DFlIV3ssYDnE"
      },
      "execution_count": null,
      "outputs": []
    },
    {
      "cell_type": "code",
      "source": [
        "# traduzindo alguns termos das colunas dos datasets\n",
        "renomear = ['Data','Abertura', 'Alta', 'Queda', 'Fechamento', 'Volume', 'VWAP', 'TWAP']\n",
        "bitcoin.columns = renomear\n",
        "btc.columns = renomear\n",
        "cardano.columns = renomear\n",
        "dash.columns = renomear\n",
        "ethereum.columns = renomear\n",
        "iota.columns = renomear\n",
        "litecoin.columns = renomear\n",
        "monero.columns = renomear\n",
        "nem.columns = renomear\n",
        "ripple.columns = renomear"
      ],
      "metadata": {
        "id": "7h1wKpaWaofb"
      },
      "execution_count": null,
      "outputs": []
    },
    {
      "cell_type": "code",
      "source": [
        "# 2. Qual os valores médios para todas as criptomoedas?"
      ],
      "metadata": {
        "id": "0iAXeUoc4nXl"
      },
      "execution_count": null,
      "outputs": []
    },
    {
      "cell_type": "code",
      "source": [
        "#bitcoin\n",
        "bitcoin_abmedia=bitcoin['Abertura'].mean() #valor médio de abertura de mercado do dia\n",
        "bitcoin_altamedia=bitcoin['Alta'].mean() #valor médio da alta de mercado do dia\n",
        "bitcoin_quedamedia=bitcoin['Queda'].mean() #valor médio de queda do dia\n",
        "bitcoin_fechmedia=bitcoin['Fechamento'].mean() #valor médio do fechamento de mercado do dia\n",
        "\n",
        "display(bitcoin_abmedia)\n",
        "display(bitcoin_altamedia)\n",
        "display(bitcoin_quedamedia)\n",
        "display(bitcoin_fechmedia)"
      ],
      "metadata": {
        "colab": {
          "base_uri": "https://localhost:8080/",
          "height": 86
        },
        "id": "wi1kQiLbbcVl",
        "outputId": "ef482588-d0bf-40b0-94a6-c53c2cea402f"
      },
      "execution_count": null,
      "outputs": [
        {
          "output_type": "display_data",
          "data": {
            "text/plain": [
              "2309.310541192513"
            ]
          },
          "metadata": {}
        },
        {
          "output_type": "display_data",
          "data": {
            "text/plain": [
              "2395.0724836430522"
            ]
          },
          "metadata": {}
        },
        {
          "output_type": "display_data",
          "data": {
            "text/plain": [
              "2208.8442362117707"
            ]
          },
          "metadata": {}
        },
        {
          "output_type": "display_data",
          "data": {
            "text/plain": [
              "2313.7421783149584"
            ]
          },
          "metadata": {}
        }
      ]
    },
    {
      "cell_type": "code",
      "source": [
        "#btc\n",
        "btc_abmedia=btc['Abertura'].mean() #valor médio de abertura de mercado do dia\n",
        "btc_altamedia=btc['Alta'].mean() #valor médio da alta de mercado do dia\n",
        "btc_quedamedia=btc['Queda'].mean() #valor médio de queda do dia\n",
        "btc_fechmedia=btc['Fechamento'].mean() #valor médio do fechamento de mercado do dia\n",
        "\n",
        "display(btc_abmedia)\n",
        "display(btc_altamedia)\n",
        "display(btc_quedamedia)\n",
        "display(btc_fechmedia)"
      ],
      "metadata": {
        "colab": {
          "base_uri": "https://localhost:8080/",
          "height": 86
        },
        "id": "no2UTYp14vtb",
        "outputId": "85459cc2-6984-4aba-ff74-3eef5c6c8248"
      },
      "execution_count": null,
      "outputs": [
        {
          "output_type": "display_data",
          "data": {
            "text/plain": [
              "1126.503026385473"
            ]
          },
          "metadata": {}
        },
        {
          "output_type": "display_data",
          "data": {
            "text/plain": [
              "1214.1839658546091"
            ]
          },
          "metadata": {}
        },
        {
          "output_type": "display_data",
          "data": {
            "text/plain": [
              "1043.7564940561317"
            ]
          },
          "metadata": {}
        },
        {
          "output_type": "display_data",
          "data": {
            "text/plain": [
              "1127.2347265498765"
            ]
          },
          "metadata": {}
        }
      ]
    },
    {
      "cell_type": "code",
      "source": [
        "#cardano\n",
        "cardano_abmedia=cardano['Abertura'].mean() #valor médio de abertura de mercado do dia\n",
        "cardano_altamedia=cardano['Alta'].mean() #valor médio da alta de mercado do dia\n",
        "cardano_quedamedia=cardano['Queda'].mean() #valor médio de queda do dia\n",
        "cardano_fechmedia=cardano['Fechamento'].mean() #valor médio do fechamento de mercado do dia\n",
        "\n",
        "display(cardano_abmedia)\n",
        "display(cardano_altamedia)\n",
        "display(cardano_quedamedia)\n",
        "display(cardano_fechmedia)"
      ],
      "metadata": {
        "colab": {
          "base_uri": "https://localhost:8080/",
          "height": 86
        },
        "id": "EEAbugRP4viL",
        "outputId": "4cedbabc-c66b-4b59-e9a0-d15a4e569dfa"
      },
      "execution_count": null,
      "outputs": [
        {
          "output_type": "display_data",
          "data": {
            "text/plain": [
              "0.2811607590607734"
            ]
          },
          "metadata": {}
        },
        {
          "output_type": "display_data",
          "data": {
            "text/plain": [
              "0.3042596850276243"
            ]
          },
          "metadata": {}
        },
        {
          "output_type": "display_data",
          "data": {
            "text/plain": [
              "0.2533388216574585"
            ]
          },
          "metadata": {}
        },
        {
          "output_type": "display_data",
          "data": {
            "text/plain": [
              "0.28120175364640887"
            ]
          },
          "metadata": {}
        }
      ]
    },
    {
      "cell_type": "code",
      "source": [
        "#dash\n",
        "dash_abmedia=dash['Abertura'].mean() #valor médio de abertura de mercado do dia\n",
        "dash_altamedia=dash['Alta'].mean() #valor médio da alta de mercado do dia\n",
        "dash_quedamedia=dash['Queda'].mean() #valor médio de queda do dia\n",
        "dash_fechmedia=dash['Fechamento'].mean() #valor médio do fechamento de mercado do dia\n",
        "\n",
        "display(dash_abmedia)\n",
        "display(dash_altamedia)\n",
        "display(dash_quedamedia)\n",
        "display(dash_fechmedia)"
      ],
      "metadata": {
        "colab": {
          "base_uri": "https://localhost:8080/",
          "height": 86
        },
        "id": "k6JYWuIU4vZ8",
        "outputId": "d749e257-de82-4992-8d65-53b0c015298a"
      },
      "execution_count": null,
      "outputs": [
        {
          "output_type": "display_data",
          "data": {
            "text/plain": [
              "131.1332341147049"
            ]
          },
          "metadata": {}
        },
        {
          "output_type": "display_data",
          "data": {
            "text/plain": [
              "137.93839299225127"
            ]
          },
          "metadata": {}
        },
        {
          "output_type": "display_data",
          "data": {
            "text/plain": [
              "123.62233773618887"
            ]
          },
          "metadata": {}
        },
        {
          "output_type": "display_data",
          "data": {
            "text/plain": [
              "131.32399303795108"
            ]
          },
          "metadata": {}
        }
      ]
    },
    {
      "cell_type": "code",
      "source": [
        "#ethereum\n",
        "ethereum_abmedia=ethereum['Abertura'].mean() #valor médio de abertura de mercado do dia\n",
        "ethereum_altamedia=ethereum['Alta'].mean() #valor médio da alta de mercado do dia\n",
        "ethereum_quedamedia=ethereum['Queda'].mean() #valor médio de queda do dia\n",
        "ethereum_fechmedia=ethereum['Fechamento'].mean() #valor médio do fechamento de mercado do dia\n",
        "\n",
        "display(ethereum_abmedia)\n",
        "display(ethereum_altamedia)\n",
        "display(ethereum_quedamedia)\n",
        "display(ethereum_fechmedia)"
      ],
      "metadata": {
        "colab": {
          "base_uri": "https://localhost:8080/",
          "height": 86
        },
        "id": "g0zOY-uN4vRl",
        "outputId": "c9c930b7-8d10-4b5c-b9d0-16721aff59c4"
      },
      "execution_count": null,
      "outputs": [
        {
          "output_type": "display_data",
          "data": {
            "text/plain": [
              "169.67916698415718"
            ]
          },
          "metadata": {}
        },
        {
          "output_type": "display_data",
          "data": {
            "text/plain": [
              "177.582673941334"
            ]
          },
          "metadata": {}
        },
        {
          "output_type": "display_data",
          "data": {
            "text/plain": [
              "160.50253024607034"
            ]
          },
          "metadata": {}
        },
        {
          "output_type": "display_data",
          "data": {
            "text/plain": [
              "170.04465241608065"
            ]
          },
          "metadata": {}
        }
      ]
    },
    {
      "cell_type": "code",
      "source": [
        "#iota\n",
        "iota_abmedia=iota['Abertura'].mean() #valor médio de abertura de mercado do dia\n",
        "iota_altamedia=iota['Alta'].mean() #valor médio da alta de mercado do dia\n",
        "iota_quedamedia=iota['Queda'].mean() #valor médio de queda do dia\n",
        "iota_fechmedia=iota['Fechamento'].mean() #valor médio do fechamento de mercado do dia\n",
        "\n",
        "display(iota_abmedia)\n",
        "display(iota_altamedia)\n",
        "display(iota_quedamedia)\n",
        "display(iota_fechmedia)"
      ],
      "metadata": {
        "colab": {
          "base_uri": "https://localhost:8080/",
          "height": 86
        },
        "id": "YkO9SB8Y4vKm",
        "outputId": "4d227246-e683-4957-921d-3b1c925bfb14"
      },
      "execution_count": null,
      "outputs": [
        {
          "output_type": "display_data",
          "data": {
            "text/plain": [
              "1.4167553486666666"
            ]
          },
          "metadata": {}
        },
        {
          "output_type": "display_data",
          "data": {
            "text/plain": [
              "1.5309264002592593"
            ]
          },
          "metadata": {}
        },
        {
          "output_type": "display_data",
          "data": {
            "text/plain": [
              "1.2831585464814814"
            ]
          },
          "metadata": {}
        },
        {
          "output_type": "display_data",
          "data": {
            "text/plain": [
              "1.419670700037037"
            ]
          },
          "metadata": {}
        }
      ]
    },
    {
      "cell_type": "code",
      "source": [
        "#litecoin\n",
        "litecoin_abmedia=litecoin['Abertura'].mean() #valor médio de abertura de mercado do dia\n",
        "litecoin_altamedia=litecoin['Alta'].mean() #valor médio da alta de mercado do dia\n",
        "litecoin_quedamedia=litecoin['Queda'].mean() #valor médio de queda do dia\n",
        "litecoin_fechmedia=litecoin['Fechamento'].mean() #valor médio do fechamento de mercado do dia\n",
        "\n",
        "display(litecoin_abmedia)\n",
        "display(litecoin_altamedia)\n",
        "display(litecoin_quedamedia)\n",
        "display(litecoin_fechmedia)"
      ],
      "metadata": {
        "colab": {
          "base_uri": "https://localhost:8080/",
          "height": 86
        },
        "id": "0ZsKZgBn4vCs",
        "outputId": "6d854ad7-3903-4a47-edd4-d09aca4ab602"
      },
      "execution_count": null,
      "outputs": [
        {
          "output_type": "display_data",
          "data": {
            "text/plain": [
              "31.72935031960371"
            ]
          },
          "metadata": {}
        },
        {
          "output_type": "display_data",
          "data": {
            "text/plain": [
              "33.438138511745365"
            ]
          },
          "metadata": {}
        },
        {
          "output_type": "display_data",
          "data": {
            "text/plain": [
              "29.852051933971328"
            ]
          },
          "metadata": {}
        },
        {
          "output_type": "display_data",
          "data": {
            "text/plain": [
              "31.815600501475544"
            ]
          },
          "metadata": {}
        }
      ]
    },
    {
      "cell_type": "code",
      "source": [
        "#monero\n",
        "monero_abmedia=monero['Abertura'].mean() #valor médio de abertura de mercado do dia\n",
        "monero_altamedia=monero['Alta'].mean() #valor médio da alta de mercado do dia\n",
        "monero_quedamedia=monero['Queda'].mean() #valor médio de queda do dia\n",
        "monero_fechmedia=monero['Fechamento'].mean() #valor médio do fechamento de mercado do dia\n",
        "\n",
        "display(monero_abmedia)\n",
        "display(monero_altamedia)\n",
        "display(monero_quedamedia)\n",
        "display(monero_fechmedia)"
      ],
      "metadata": {
        "colab": {
          "base_uri": "https://localhost:8080/",
          "height": 86
        },
        "id": "O-Cc1lGA4u3U",
        "outputId": "216a9406-4c8c-4b56-a999-885b093cb4e7"
      },
      "execution_count": null,
      "outputs": [
        {
          "output_type": "display_data",
          "data": {
            "text/plain": [
              "47.154307210556496"
            ]
          },
          "metadata": {}
        },
        {
          "output_type": "display_data",
          "data": {
            "text/plain": [
              "49.97572412206576"
            ]
          },
          "metadata": {}
        },
        {
          "output_type": "display_data",
          "data": {
            "text/plain": [
              "43.9655930744688"
            ]
          },
          "metadata": {}
        },
        {
          "output_type": "display_data",
          "data": {
            "text/plain": [
              "47.29574992233558"
            ]
          },
          "metadata": {}
        }
      ]
    },
    {
      "cell_type": "code",
      "source": [
        "#nem\n",
        "nem_abmedia=nem['Abertura'].mean() #valor médio de abertura de mercado do dia\n",
        "nem_altamedia=nem['Alta'].mean() #valor médio da alta de mercado do dia\n",
        "nem_quedamedia=nem['Queda'].mean() #valor médio de queda do dia\n",
        "nem_fechmedia=nem['Fechamento'].mean() #valor médio do fechamento de mercado do dia\n",
        "\n",
        "display(nem_abmedia)\n",
        "display(nem_altamedia)\n",
        "display(nem_quedamedia)\n",
        "display(nem_fechmedia)"
      ],
      "metadata": {
        "colab": {
          "base_uri": "https://localhost:8080/",
          "height": 86
        },
        "id": "E-cAdbpH4utF",
        "outputId": "25307995-d5b6-4145-e854-82dbc2bd0c43"
      },
      "execution_count": null,
      "outputs": [
        {
          "output_type": "display_data",
          "data": {
            "text/plain": [
              "0.11869857325987143"
            ]
          },
          "metadata": {}
        },
        {
          "output_type": "display_data",
          "data": {
            "text/plain": [
              "0.12749504230486686"
            ]
          },
          "metadata": {}
        },
        {
          "output_type": "display_data",
          "data": {
            "text/plain": [
              "0.10861644955922864"
            ]
          },
          "metadata": {}
        },
        {
          "output_type": "display_data",
          "data": {
            "text/plain": [
              "0.1186998629476584"
            ]
          },
          "metadata": {}
        }
      ]
    },
    {
      "cell_type": "code",
      "source": [
        "#ripple\n",
        "ripple_abmedia=ripple['Abertura'].mean() #valor médio de abertura de mercado do dia\n",
        "ripple_altamedia=ripple['Alta'].mean() #valor médio da alta de mercado do dia\n",
        "ripple_quedamedia=ripple['Queda'].mean() #valor médio de queda do dia\n",
        "ripple_fechmedia=ripple['Fechamento'].mean() #valor médio do fechamento de mercado do dia\n",
        "\n",
        "display(ripple_abmedia)\n",
        "display(ripple_altamedia)\n",
        "display(ripple_quedamedia)\n",
        "display(ripple_fechmedia)"
      ],
      "metadata": {
        "colab": {
          "base_uri": "https://localhost:8080/",
          "height": 86
        },
        "id": "-7TKacCO4ufc",
        "outputId": "68e71595-5dce-4443-c491-711dc227ed69"
      },
      "execution_count": null,
      "outputs": [
        {
          "output_type": "display_data",
          "data": {
            "text/plain": [
              "0.161740395311973"
            ]
          },
          "metadata": {}
        },
        {
          "output_type": "display_data",
          "data": {
            "text/plain": [
              "0.17345748596964583"
            ]
          },
          "metadata": {}
        },
        {
          "output_type": "display_data",
          "data": {
            "text/plain": [
              "0.1487733397639123"
            ]
          },
          "metadata": {}
        },
        {
          "output_type": "display_data",
          "data": {
            "text/plain": [
              "0.16194445611298483"
            ]
          },
          "metadata": {}
        }
      ]
    },
    {
      "cell_type": "code",
      "source": [
        "# 3. Em quais anos houve maiores quedas e valorizações?"
      ],
      "metadata": {
        "id": "ogooLV4Y4x2s"
      },
      "execution_count": null,
      "outputs": []
    },
    {
      "cell_type": "code",
      "source": [
        "#bitcoin\n",
        "\n",
        "bitcoin['Data']=pd.to_datetime(bitcoin['Data']) #convertendo a coluna 'Data' para o formato datetime\n",
        "bitcoin['Ano']=bitcoin['Data'].dt.year #extraindo o ano da coluna 'Data' e armazenando-o em uma nova coluna chamada 'Ano'\n",
        "\n",
        "bitcoin_ano = bitcoin.groupby(bitcoin['Data'].dt.year).agg({'Fechamento': 'last','Abertura': 'first'})\n",
        "\n",
        "bitcoin_ano['ValorizacaoAbsoluta'] = bitcoin_ano['Fechamento'] - bitcoin_ano['Abertura']\n",
        "bitcoin_ano['ValorizacaoPercentual'] = (bitcoin_ano['Fechamento'] - bitcoin_ano['Abertura']) / bitcoin_ano['Abertura'] * 100\n",
        "\n",
        "ano_maior_queda = bitcoin_ano['ValorizacaoPercentual'].idxmin()\n",
        "ano_maior_valorizacao = bitcoin_ano['ValorizacaoPercentual'].idxmax()\n",
        "\n",
        "dados_maior_queda = bitcoin.loc[bitcoin['Data'].dt.year == ano_maior_queda]\n",
        "dados_maior_valorizacao = bitcoin.loc[bitcoin['Data'].dt.year == ano_maior_valorizacao]\n",
        "\n",
        "display(dados_maior_queda)\n",
        "print('######')\n",
        "display(dados_maior_valorizacao)"
      ],
      "metadata": {
        "colab": {
          "base_uri": "https://localhost:8080/",
          "height": 848
        },
        "id": "Zhzh0Mk5dBbs",
        "outputId": "cec6dc71-2dbf-497f-b866-0814d7af2c2e"
      },
      "execution_count": 52,
      "outputs": [
        {
          "output_type": "display_data",
          "data": {
            "text/plain": [
              "          Data      Abertura          Alta         Queda    Fechamento  \\\n",
              "90  2017-12-31  13122.664468  14774.278138  13005.672985  14486.874399   \n",
              "91  2017-12-30  15062.018523  15093.210176  12784.908203  13234.822333   \n",
              "92  2017-12-29  14960.893669  15520.840185  14701.791086  15083.148988   \n",
              "93  2017-12-28  16071.542602  16093.709428  14253.308769  14894.763279   \n",
              "94  2017-12-27  16497.097792  17302.535873  15428.196197  16062.605646   \n",
              "..         ...           ...           ...           ...           ...   \n",
              "450 2017-01-05   1231.717642   1278.775465    913.184165   1025.868533   \n",
              "451 2017-01-04   1067.105286   1236.056340   1067.105286   1229.904999   \n",
              "452 2017-01-03   1058.959921   1072.589426   1048.055630   1067.066961   \n",
              "453 2017-01-02   1031.473660   1066.645664   1027.261029   1059.711920   \n",
              "454 2017-01-01    984.308263   1035.024678    979.340178   1030.654866   \n",
              "\n",
              "           Volume          VWAP          TWAP   Ano  \n",
              "90   3.074538e+05  13817.912215  13860.482338  2017  \n",
              "91   4.188444e+05  13798.643568  13848.170525  2017  \n",
              "92   2.908461e+05  15084.014313  15080.892575  2017  \n",
              "93   4.357158e+05  14833.805117  14858.492067  2017  \n",
              "94   3.642399e+05  16390.883039  16384.749030  2017  \n",
              "..            ...           ...           ...   ...  \n",
              "450  1.064236e+07   1087.881951   1108.003231  2017  \n",
              "451  6.895741e+06   1139.593260   1131.689840  2017  \n",
              "452  4.237414e+06   1059.349971   1059.612916  2017  \n",
              "453  4.206859e+06   1050.631978   1050.031143  2017  \n",
              "454  3.344057e+06   1000.379323   1000.388167  2017  \n",
              "\n",
              "[365 rows x 9 columns]"
            ],
            "text/html": [
              "\n",
              "  <div id=\"df-4c25bee6-31f4-41cf-8212-3b8c60b7f552\">\n",
              "    <div class=\"colab-df-container\">\n",
              "      <div>\n",
              "<style scoped>\n",
              "    .dataframe tbody tr th:only-of-type {\n",
              "        vertical-align: middle;\n",
              "    }\n",
              "\n",
              "    .dataframe tbody tr th {\n",
              "        vertical-align: top;\n",
              "    }\n",
              "\n",
              "    .dataframe thead th {\n",
              "        text-align: right;\n",
              "    }\n",
              "</style>\n",
              "<table border=\"1\" class=\"dataframe\">\n",
              "  <thead>\n",
              "    <tr style=\"text-align: right;\">\n",
              "      <th></th>\n",
              "      <th>Data</th>\n",
              "      <th>Abertura</th>\n",
              "      <th>Alta</th>\n",
              "      <th>Queda</th>\n",
              "      <th>Fechamento</th>\n",
              "      <th>Volume</th>\n",
              "      <th>VWAP</th>\n",
              "      <th>TWAP</th>\n",
              "      <th>Ano</th>\n",
              "    </tr>\n",
              "  </thead>\n",
              "  <tbody>\n",
              "    <tr>\n",
              "      <th>90</th>\n",
              "      <td>2017-12-31</td>\n",
              "      <td>13122.664468</td>\n",
              "      <td>14774.278138</td>\n",
              "      <td>13005.672985</td>\n",
              "      <td>14486.874399</td>\n",
              "      <td>3.074538e+05</td>\n",
              "      <td>13817.912215</td>\n",
              "      <td>13860.482338</td>\n",
              "      <td>2017</td>\n",
              "    </tr>\n",
              "    <tr>\n",
              "      <th>91</th>\n",
              "      <td>2017-12-30</td>\n",
              "      <td>15062.018523</td>\n",
              "      <td>15093.210176</td>\n",
              "      <td>12784.908203</td>\n",
              "      <td>13234.822333</td>\n",
              "      <td>4.188444e+05</td>\n",
              "      <td>13798.643568</td>\n",
              "      <td>13848.170525</td>\n",
              "      <td>2017</td>\n",
              "    </tr>\n",
              "    <tr>\n",
              "      <th>92</th>\n",
              "      <td>2017-12-29</td>\n",
              "      <td>14960.893669</td>\n",
              "      <td>15520.840185</td>\n",
              "      <td>14701.791086</td>\n",
              "      <td>15083.148988</td>\n",
              "      <td>2.908461e+05</td>\n",
              "      <td>15084.014313</td>\n",
              "      <td>15080.892575</td>\n",
              "      <td>2017</td>\n",
              "    </tr>\n",
              "    <tr>\n",
              "      <th>93</th>\n",
              "      <td>2017-12-28</td>\n",
              "      <td>16071.542602</td>\n",
              "      <td>16093.709428</td>\n",
              "      <td>14253.308769</td>\n",
              "      <td>14894.763279</td>\n",
              "      <td>4.357158e+05</td>\n",
              "      <td>14833.805117</td>\n",
              "      <td>14858.492067</td>\n",
              "      <td>2017</td>\n",
              "    </tr>\n",
              "    <tr>\n",
              "      <th>94</th>\n",
              "      <td>2017-12-27</td>\n",
              "      <td>16497.097792</td>\n",
              "      <td>17302.535873</td>\n",
              "      <td>15428.196197</td>\n",
              "      <td>16062.605646</td>\n",
              "      <td>3.642399e+05</td>\n",
              "      <td>16390.883039</td>\n",
              "      <td>16384.749030</td>\n",
              "      <td>2017</td>\n",
              "    </tr>\n",
              "    <tr>\n",
              "      <th>...</th>\n",
              "      <td>...</td>\n",
              "      <td>...</td>\n",
              "      <td>...</td>\n",
              "      <td>...</td>\n",
              "      <td>...</td>\n",
              "      <td>...</td>\n",
              "      <td>...</td>\n",
              "      <td>...</td>\n",
              "      <td>...</td>\n",
              "    </tr>\n",
              "    <tr>\n",
              "      <th>450</th>\n",
              "      <td>2017-01-05</td>\n",
              "      <td>1231.717642</td>\n",
              "      <td>1278.775465</td>\n",
              "      <td>913.184165</td>\n",
              "      <td>1025.868533</td>\n",
              "      <td>1.064236e+07</td>\n",
              "      <td>1087.881951</td>\n",
              "      <td>1108.003231</td>\n",
              "      <td>2017</td>\n",
              "    </tr>\n",
              "    <tr>\n",
              "      <th>451</th>\n",
              "      <td>2017-01-04</td>\n",
              "      <td>1067.105286</td>\n",
              "      <td>1236.056340</td>\n",
              "      <td>1067.105286</td>\n",
              "      <td>1229.904999</td>\n",
              "      <td>6.895741e+06</td>\n",
              "      <td>1139.593260</td>\n",
              "      <td>1131.689840</td>\n",
              "      <td>2017</td>\n",
              "    </tr>\n",
              "    <tr>\n",
              "      <th>452</th>\n",
              "      <td>2017-01-03</td>\n",
              "      <td>1058.959921</td>\n",
              "      <td>1072.589426</td>\n",
              "      <td>1048.055630</td>\n",
              "      <td>1067.066961</td>\n",
              "      <td>4.237414e+06</td>\n",
              "      <td>1059.349971</td>\n",
              "      <td>1059.612916</td>\n",
              "      <td>2017</td>\n",
              "    </tr>\n",
              "    <tr>\n",
              "      <th>453</th>\n",
              "      <td>2017-01-02</td>\n",
              "      <td>1031.473660</td>\n",
              "      <td>1066.645664</td>\n",
              "      <td>1027.261029</td>\n",
              "      <td>1059.711920</td>\n",
              "      <td>4.206859e+06</td>\n",
              "      <td>1050.631978</td>\n",
              "      <td>1050.031143</td>\n",
              "      <td>2017</td>\n",
              "    </tr>\n",
              "    <tr>\n",
              "      <th>454</th>\n",
              "      <td>2017-01-01</td>\n",
              "      <td>984.308263</td>\n",
              "      <td>1035.024678</td>\n",
              "      <td>979.340178</td>\n",
              "      <td>1030.654866</td>\n",
              "      <td>3.344057e+06</td>\n",
              "      <td>1000.379323</td>\n",
              "      <td>1000.388167</td>\n",
              "      <td>2017</td>\n",
              "    </tr>\n",
              "  </tbody>\n",
              "</table>\n",
              "<p>365 rows × 9 columns</p>\n",
              "</div>\n",
              "      <button class=\"colab-df-convert\" onclick=\"convertToInteractive('df-4c25bee6-31f4-41cf-8212-3b8c60b7f552')\"\n",
              "              title=\"Convert this dataframe to an interactive table.\"\n",
              "              style=\"display:none;\">\n",
              "        \n",
              "  <svg xmlns=\"http://www.w3.org/2000/svg\" height=\"24px\"viewBox=\"0 0 24 24\"\n",
              "       width=\"24px\">\n",
              "    <path d=\"M0 0h24v24H0V0z\" fill=\"none\"/>\n",
              "    <path d=\"M18.56 5.44l.94 2.06.94-2.06 2.06-.94-2.06-.94-.94-2.06-.94 2.06-2.06.94zm-11 1L8.5 8.5l.94-2.06 2.06-.94-2.06-.94L8.5 2.5l-.94 2.06-2.06.94zm10 10l.94 2.06.94-2.06 2.06-.94-2.06-.94-.94-2.06-.94 2.06-2.06.94z\"/><path d=\"M17.41 7.96l-1.37-1.37c-.4-.4-.92-.59-1.43-.59-.52 0-1.04.2-1.43.59L10.3 9.45l-7.72 7.72c-.78.78-.78 2.05 0 2.83L4 21.41c.39.39.9.59 1.41.59.51 0 1.02-.2 1.41-.59l7.78-7.78 2.81-2.81c.8-.78.8-2.07 0-2.86zM5.41 20L4 18.59l7.72-7.72 1.47 1.35L5.41 20z\"/>\n",
              "  </svg>\n",
              "      </button>\n",
              "      \n",
              "  <style>\n",
              "    .colab-df-container {\n",
              "      display:flex;\n",
              "      flex-wrap:wrap;\n",
              "      gap: 12px;\n",
              "    }\n",
              "\n",
              "    .colab-df-convert {\n",
              "      background-color: #E8F0FE;\n",
              "      border: none;\n",
              "      border-radius: 50%;\n",
              "      cursor: pointer;\n",
              "      display: none;\n",
              "      fill: #1967D2;\n",
              "      height: 32px;\n",
              "      padding: 0 0 0 0;\n",
              "      width: 32px;\n",
              "    }\n",
              "\n",
              "    .colab-df-convert:hover {\n",
              "      background-color: #E2EBFA;\n",
              "      box-shadow: 0px 1px 2px rgba(60, 64, 67, 0.3), 0px 1px 3px 1px rgba(60, 64, 67, 0.15);\n",
              "      fill: #174EA6;\n",
              "    }\n",
              "\n",
              "    [theme=dark] .colab-df-convert {\n",
              "      background-color: #3B4455;\n",
              "      fill: #D2E3FC;\n",
              "    }\n",
              "\n",
              "    [theme=dark] .colab-df-convert:hover {\n",
              "      background-color: #434B5C;\n",
              "      box-shadow: 0px 1px 3px 1px rgba(0, 0, 0, 0.15);\n",
              "      filter: drop-shadow(0px 1px 2px rgba(0, 0, 0, 0.3));\n",
              "      fill: #FFFFFF;\n",
              "    }\n",
              "  </style>\n",
              "\n",
              "      <script>\n",
              "        const buttonEl =\n",
              "          document.querySelector('#df-4c25bee6-31f4-41cf-8212-3b8c60b7f552 button.colab-df-convert');\n",
              "        buttonEl.style.display =\n",
              "          google.colab.kernel.accessAllowed ? 'block' : 'none';\n",
              "\n",
              "        async function convertToInteractive(key) {\n",
              "          const element = document.querySelector('#df-4c25bee6-31f4-41cf-8212-3b8c60b7f552');\n",
              "          const dataTable =\n",
              "            await google.colab.kernel.invokeFunction('convertToInteractive',\n",
              "                                                     [key], {});\n",
              "          if (!dataTable) return;\n",
              "\n",
              "          const docLinkHtml = 'Like what you see? Visit the ' +\n",
              "            '<a target=\"_blank\" href=https://colab.research.google.com/notebooks/data_table.ipynb>data table notebook</a>'\n",
              "            + ' to learn more about interactive tables.';\n",
              "          element.innerHTML = '';\n",
              "          dataTable['output_type'] = 'display_data';\n",
              "          await google.colab.output.renderOutput(dataTable, element);\n",
              "          const docLink = document.createElement('div');\n",
              "          docLink.innerHTML = docLinkHtml;\n",
              "          element.appendChild(docLink);\n",
              "        }\n",
              "      </script>\n",
              "    </div>\n",
              "  </div>\n",
              "  "
            ]
          },
          "metadata": {}
        },
        {
          "output_type": "stream",
          "name": "stdout",
          "text": [
            "######\n"
          ]
        },
        {
          "output_type": "display_data",
          "data": {
            "text/plain": [
              "         Data      Abertura          Alta         Queda    Fechamento  \\\n",
              "0  2018-03-31   6877.060559   7224.073096   6845.765407   6980.794485   \n",
              "1  2018-03-30   7145.558812   7300.913155   6667.086968   6883.725208   \n",
              "2  2018-03-29   7983.837144   7996.389607   7005.998073   7154.143491   \n",
              "3  2018-03-28   7846.584324   8119.134881   7804.215096   7972.350959   \n",
              "4  2018-03-27   8189.532364   8244.970320   7806.926140   7856.948846   \n",
              "..        ...           ...           ...           ...           ...   \n",
              "85 2018-01-05  15864.986356  18195.173584  15681.819877  17972.543922   \n",
              "86 2018-01-04  15580.544556  15894.405597  15048.094451  15854.350074   \n",
              "87 2018-01-03  15282.715222  15946.084744  15211.289995  15525.382251   \n",
              "88 2018-01-02  14098.894756  15663.299990  13762.145803  15299.547476   \n",
              "89 2018-01-01  14505.894767  14505.894767  13617.459633  14092.742825   \n",
              "\n",
              "           Volume          VWAP          TWAP   Ano  \n",
              "0   382634.619071   7044.705186   7044.127805  2018  \n",
              "1   609854.553605   6935.257228   6936.282983  2018  \n",
              "2   531839.173256   7535.636043   7574.005265  2018  \n",
              "3   275193.597624   7956.314335   7959.131977  2018  \n",
              "4   357522.246911   8007.858721   8009.491882  2018  \n",
              "..            ...           ...           ...   ...  \n",
              "85  415004.981969  16763.891684  16706.264959  2018  \n",
              "86  343297.258893  15467.805842  15469.796849  2018  \n",
              "87  282855.422415  15520.373260  15520.778234  2018  \n",
              "88  344679.626822  14516.370205  14455.877950  2018  \n",
              "89  225906.214274  14103.178097  14093.734469  2018  \n",
              "\n",
              "[90 rows x 9 columns]"
            ],
            "text/html": [
              "\n",
              "  <div id=\"df-3aa5797a-a449-4f49-befb-a3a10f7f5de6\">\n",
              "    <div class=\"colab-df-container\">\n",
              "      <div>\n",
              "<style scoped>\n",
              "    .dataframe tbody tr th:only-of-type {\n",
              "        vertical-align: middle;\n",
              "    }\n",
              "\n",
              "    .dataframe tbody tr th {\n",
              "        vertical-align: top;\n",
              "    }\n",
              "\n",
              "    .dataframe thead th {\n",
              "        text-align: right;\n",
              "    }\n",
              "</style>\n",
              "<table border=\"1\" class=\"dataframe\">\n",
              "  <thead>\n",
              "    <tr style=\"text-align: right;\">\n",
              "      <th></th>\n",
              "      <th>Data</th>\n",
              "      <th>Abertura</th>\n",
              "      <th>Alta</th>\n",
              "      <th>Queda</th>\n",
              "      <th>Fechamento</th>\n",
              "      <th>Volume</th>\n",
              "      <th>VWAP</th>\n",
              "      <th>TWAP</th>\n",
              "      <th>Ano</th>\n",
              "    </tr>\n",
              "  </thead>\n",
              "  <tbody>\n",
              "    <tr>\n",
              "      <th>0</th>\n",
              "      <td>2018-03-31</td>\n",
              "      <td>6877.060559</td>\n",
              "      <td>7224.073096</td>\n",
              "      <td>6845.765407</td>\n",
              "      <td>6980.794485</td>\n",
              "      <td>382634.619071</td>\n",
              "      <td>7044.705186</td>\n",
              "      <td>7044.127805</td>\n",
              "      <td>2018</td>\n",
              "    </tr>\n",
              "    <tr>\n",
              "      <th>1</th>\n",
              "      <td>2018-03-30</td>\n",
              "      <td>7145.558812</td>\n",
              "      <td>7300.913155</td>\n",
              "      <td>6667.086968</td>\n",
              "      <td>6883.725208</td>\n",
              "      <td>609854.553605</td>\n",
              "      <td>6935.257228</td>\n",
              "      <td>6936.282983</td>\n",
              "      <td>2018</td>\n",
              "    </tr>\n",
              "    <tr>\n",
              "      <th>2</th>\n",
              "      <td>2018-03-29</td>\n",
              "      <td>7983.837144</td>\n",
              "      <td>7996.389607</td>\n",
              "      <td>7005.998073</td>\n",
              "      <td>7154.143491</td>\n",
              "      <td>531839.173256</td>\n",
              "      <td>7535.636043</td>\n",
              "      <td>7574.005265</td>\n",
              "      <td>2018</td>\n",
              "    </tr>\n",
              "    <tr>\n",
              "      <th>3</th>\n",
              "      <td>2018-03-28</td>\n",
              "      <td>7846.584324</td>\n",
              "      <td>8119.134881</td>\n",
              "      <td>7804.215096</td>\n",
              "      <td>7972.350959</td>\n",
              "      <td>275193.597624</td>\n",
              "      <td>7956.314335</td>\n",
              "      <td>7959.131977</td>\n",
              "      <td>2018</td>\n",
              "    </tr>\n",
              "    <tr>\n",
              "      <th>4</th>\n",
              "      <td>2018-03-27</td>\n",
              "      <td>8189.532364</td>\n",
              "      <td>8244.970320</td>\n",
              "      <td>7806.926140</td>\n",
              "      <td>7856.948846</td>\n",
              "      <td>357522.246911</td>\n",
              "      <td>8007.858721</td>\n",
              "      <td>8009.491882</td>\n",
              "      <td>2018</td>\n",
              "    </tr>\n",
              "    <tr>\n",
              "      <th>...</th>\n",
              "      <td>...</td>\n",
              "      <td>...</td>\n",
              "      <td>...</td>\n",
              "      <td>...</td>\n",
              "      <td>...</td>\n",
              "      <td>...</td>\n",
              "      <td>...</td>\n",
              "      <td>...</td>\n",
              "      <td>...</td>\n",
              "    </tr>\n",
              "    <tr>\n",
              "      <th>85</th>\n",
              "      <td>2018-01-05</td>\n",
              "      <td>15864.986356</td>\n",
              "      <td>18195.173584</td>\n",
              "      <td>15681.819877</td>\n",
              "      <td>17972.543922</td>\n",
              "      <td>415004.981969</td>\n",
              "      <td>16763.891684</td>\n",
              "      <td>16706.264959</td>\n",
              "      <td>2018</td>\n",
              "    </tr>\n",
              "    <tr>\n",
              "      <th>86</th>\n",
              "      <td>2018-01-04</td>\n",
              "      <td>15580.544556</td>\n",
              "      <td>15894.405597</td>\n",
              "      <td>15048.094451</td>\n",
              "      <td>15854.350074</td>\n",
              "      <td>343297.258893</td>\n",
              "      <td>15467.805842</td>\n",
              "      <td>15469.796849</td>\n",
              "      <td>2018</td>\n",
              "    </tr>\n",
              "    <tr>\n",
              "      <th>87</th>\n",
              "      <td>2018-01-03</td>\n",
              "      <td>15282.715222</td>\n",
              "      <td>15946.084744</td>\n",
              "      <td>15211.289995</td>\n",
              "      <td>15525.382251</td>\n",
              "      <td>282855.422415</td>\n",
              "      <td>15520.373260</td>\n",
              "      <td>15520.778234</td>\n",
              "      <td>2018</td>\n",
              "    </tr>\n",
              "    <tr>\n",
              "      <th>88</th>\n",
              "      <td>2018-01-02</td>\n",
              "      <td>14098.894756</td>\n",
              "      <td>15663.299990</td>\n",
              "      <td>13762.145803</td>\n",
              "      <td>15299.547476</td>\n",
              "      <td>344679.626822</td>\n",
              "      <td>14516.370205</td>\n",
              "      <td>14455.877950</td>\n",
              "      <td>2018</td>\n",
              "    </tr>\n",
              "    <tr>\n",
              "      <th>89</th>\n",
              "      <td>2018-01-01</td>\n",
              "      <td>14505.894767</td>\n",
              "      <td>14505.894767</td>\n",
              "      <td>13617.459633</td>\n",
              "      <td>14092.742825</td>\n",
              "      <td>225906.214274</td>\n",
              "      <td>14103.178097</td>\n",
              "      <td>14093.734469</td>\n",
              "      <td>2018</td>\n",
              "    </tr>\n",
              "  </tbody>\n",
              "</table>\n",
              "<p>90 rows × 9 columns</p>\n",
              "</div>\n",
              "      <button class=\"colab-df-convert\" onclick=\"convertToInteractive('df-3aa5797a-a449-4f49-befb-a3a10f7f5de6')\"\n",
              "              title=\"Convert this dataframe to an interactive table.\"\n",
              "              style=\"display:none;\">\n",
              "        \n",
              "  <svg xmlns=\"http://www.w3.org/2000/svg\" height=\"24px\"viewBox=\"0 0 24 24\"\n",
              "       width=\"24px\">\n",
              "    <path d=\"M0 0h24v24H0V0z\" fill=\"none\"/>\n",
              "    <path d=\"M18.56 5.44l.94 2.06.94-2.06 2.06-.94-2.06-.94-.94-2.06-.94 2.06-2.06.94zm-11 1L8.5 8.5l.94-2.06 2.06-.94-2.06-.94L8.5 2.5l-.94 2.06-2.06.94zm10 10l.94 2.06.94-2.06 2.06-.94-2.06-.94-.94-2.06-.94 2.06-2.06.94z\"/><path d=\"M17.41 7.96l-1.37-1.37c-.4-.4-.92-.59-1.43-.59-.52 0-1.04.2-1.43.59L10.3 9.45l-7.72 7.72c-.78.78-.78 2.05 0 2.83L4 21.41c.39.39.9.59 1.41.59.51 0 1.02-.2 1.41-.59l7.78-7.78 2.81-2.81c.8-.78.8-2.07 0-2.86zM5.41 20L4 18.59l7.72-7.72 1.47 1.35L5.41 20z\"/>\n",
              "  </svg>\n",
              "      </button>\n",
              "      \n",
              "  <style>\n",
              "    .colab-df-container {\n",
              "      display:flex;\n",
              "      flex-wrap:wrap;\n",
              "      gap: 12px;\n",
              "    }\n",
              "\n",
              "    .colab-df-convert {\n",
              "      background-color: #E8F0FE;\n",
              "      border: none;\n",
              "      border-radius: 50%;\n",
              "      cursor: pointer;\n",
              "      display: none;\n",
              "      fill: #1967D2;\n",
              "      height: 32px;\n",
              "      padding: 0 0 0 0;\n",
              "      width: 32px;\n",
              "    }\n",
              "\n",
              "    .colab-df-convert:hover {\n",
              "      background-color: #E2EBFA;\n",
              "      box-shadow: 0px 1px 2px rgba(60, 64, 67, 0.3), 0px 1px 3px 1px rgba(60, 64, 67, 0.15);\n",
              "      fill: #174EA6;\n",
              "    }\n",
              "\n",
              "    [theme=dark] .colab-df-convert {\n",
              "      background-color: #3B4455;\n",
              "      fill: #D2E3FC;\n",
              "    }\n",
              "\n",
              "    [theme=dark] .colab-df-convert:hover {\n",
              "      background-color: #434B5C;\n",
              "      box-shadow: 0px 1px 3px 1px rgba(0, 0, 0, 0.15);\n",
              "      filter: drop-shadow(0px 1px 2px rgba(0, 0, 0, 0.3));\n",
              "      fill: #FFFFFF;\n",
              "    }\n",
              "  </style>\n",
              "\n",
              "      <script>\n",
              "        const buttonEl =\n",
              "          document.querySelector('#df-3aa5797a-a449-4f49-befb-a3a10f7f5de6 button.colab-df-convert');\n",
              "        buttonEl.style.display =\n",
              "          google.colab.kernel.accessAllowed ? 'block' : 'none';\n",
              "\n",
              "        async function convertToInteractive(key) {\n",
              "          const element = document.querySelector('#df-3aa5797a-a449-4f49-befb-a3a10f7f5de6');\n",
              "          const dataTable =\n",
              "            await google.colab.kernel.invokeFunction('convertToInteractive',\n",
              "                                                     [key], {});\n",
              "          if (!dataTable) return;\n",
              "\n",
              "          const docLinkHtml = 'Like what you see? Visit the ' +\n",
              "            '<a target=\"_blank\" href=https://colab.research.google.com/notebooks/data_table.ipynb>data table notebook</a>'\n",
              "            + ' to learn more about interactive tables.';\n",
              "          element.innerHTML = '';\n",
              "          dataTable['output_type'] = 'display_data';\n",
              "          await google.colab.output.renderOutput(dataTable, element);\n",
              "          const docLink = document.createElement('div');\n",
              "          docLink.innerHTML = docLinkHtml;\n",
              "          element.appendChild(docLink);\n",
              "        }\n",
              "      </script>\n",
              "    </div>\n",
              "  </div>\n",
              "  "
            ]
          },
          "metadata": {}
        }
      ]
    },
    {
      "cell_type": "code",
      "source": [],
      "metadata": {
        "id": "FNxTMuXL42QP"
      },
      "execution_count": null,
      "outputs": []
    },
    {
      "cell_type": "code",
      "source": [],
      "metadata": {
        "id": "yBJX71r242IA"
      },
      "execution_count": null,
      "outputs": []
    },
    {
      "cell_type": "code",
      "source": [],
      "metadata": {
        "id": "zkgRXDaI42AH"
      },
      "execution_count": null,
      "outputs": []
    },
    {
      "cell_type": "code",
      "source": [],
      "metadata": {
        "id": "a7gJGtw2414U"
      },
      "execution_count": null,
      "outputs": []
    },
    {
      "cell_type": "code",
      "source": [],
      "metadata": {
        "id": "UB6T0tB041wx"
      },
      "execution_count": null,
      "outputs": []
    },
    {
      "cell_type": "code",
      "source": [],
      "metadata": {
        "id": "h17GScp741pk"
      },
      "execution_count": null,
      "outputs": []
    },
    {
      "cell_type": "code",
      "source": [],
      "metadata": {
        "id": "TyvJc7R141hG"
      },
      "execution_count": null,
      "outputs": []
    },
    {
      "cell_type": "code",
      "source": [],
      "metadata": {
        "id": "aYg1k9bo41Z0"
      },
      "execution_count": null,
      "outputs": []
    },
    {
      "cell_type": "code",
      "source": [],
      "metadata": {
        "id": "pjV59hud41M0"
      },
      "execution_count": null,
      "outputs": []
    },
    {
      "cell_type": "code",
      "source": [
        "#rascunho\n",
        "bitcoin"
      ],
      "metadata": {
        "colab": {
          "base_uri": "https://localhost:8080/",
          "height": 424
        },
        "id": "2lcGsOi-BALR",
        "outputId": "49825865-34c4-49b6-d0ba-fec2d93c41be"
      },
      "execution_count": 46,
      "outputs": [
        {
          "output_type": "execute_result",
          "data": {
            "text/plain": [
              "           Data     Abertura         Alta        Queda   Fechamento  \\\n",
              "0    2018-03-31  6877.060559  7224.073096  6845.765407  6980.794485   \n",
              "1    2018-03-30  7145.558812  7300.913155  6667.086968  6883.725208   \n",
              "2    2018-03-29  7983.837144  7996.389607  7005.998073  7154.143491   \n",
              "3    2018-03-28  7846.584324  8119.134881  7804.215096  7972.350959   \n",
              "4    2018-03-27  8189.532364  8244.970320  7806.926140  7856.948846   \n",
              "...         ...          ...          ...          ...          ...   \n",
              "1181 2015-01-05   262.111956   276.912533   262.111956   272.161003   \n",
              "1182 2015-01-04   280.648594   284.226130   256.436014   262.204562   \n",
              "1183 2015-01-03   314.036747   314.054547   283.234550   283.234550   \n",
              "1184 2015-01-02   313.298509   314.925323   312.753587   314.022867   \n",
              "1185 2015-01-01   318.724668   318.770152   313.122075   313.326336   \n",
              "\n",
              "             Volume         VWAP         TWAP   Ano  \n",
              "0     382634.619071  7044.705186  7044.127805  2018  \n",
              "1     609854.553605  6935.257228  6936.282983  2018  \n",
              "2     531839.173256  7535.636043  7574.005265  2018  \n",
              "3     275193.597624  7956.314335  7959.131977  2018  \n",
              "4     357522.246911  8007.858721  8009.491882  2018  \n",
              "...             ...          ...          ...   ...  \n",
              "1181  706159.699523   270.419283   270.369332  2015  \n",
              "1182  946120.852240   271.347063   272.535540  2015  \n",
              "1183  550269.195356   301.560252   303.284471  2015  \n",
              "1184  223533.431312   313.934526   313.940831  2015  \n",
              "1185  253845.174191   315.147863   315.103642  2015  \n",
              "\n",
              "[1186 rows x 9 columns]"
            ],
            "text/html": [
              "\n",
              "  <div id=\"df-3ae4441c-46f8-4658-9028-5250d5b287f1\">\n",
              "    <div class=\"colab-df-container\">\n",
              "      <div>\n",
              "<style scoped>\n",
              "    .dataframe tbody tr th:only-of-type {\n",
              "        vertical-align: middle;\n",
              "    }\n",
              "\n",
              "    .dataframe tbody tr th {\n",
              "        vertical-align: top;\n",
              "    }\n",
              "\n",
              "    .dataframe thead th {\n",
              "        text-align: right;\n",
              "    }\n",
              "</style>\n",
              "<table border=\"1\" class=\"dataframe\">\n",
              "  <thead>\n",
              "    <tr style=\"text-align: right;\">\n",
              "      <th></th>\n",
              "      <th>Data</th>\n",
              "      <th>Abertura</th>\n",
              "      <th>Alta</th>\n",
              "      <th>Queda</th>\n",
              "      <th>Fechamento</th>\n",
              "      <th>Volume</th>\n",
              "      <th>VWAP</th>\n",
              "      <th>TWAP</th>\n",
              "      <th>Ano</th>\n",
              "    </tr>\n",
              "  </thead>\n",
              "  <tbody>\n",
              "    <tr>\n",
              "      <th>0</th>\n",
              "      <td>2018-03-31</td>\n",
              "      <td>6877.060559</td>\n",
              "      <td>7224.073096</td>\n",
              "      <td>6845.765407</td>\n",
              "      <td>6980.794485</td>\n",
              "      <td>382634.619071</td>\n",
              "      <td>7044.705186</td>\n",
              "      <td>7044.127805</td>\n",
              "      <td>2018</td>\n",
              "    </tr>\n",
              "    <tr>\n",
              "      <th>1</th>\n",
              "      <td>2018-03-30</td>\n",
              "      <td>7145.558812</td>\n",
              "      <td>7300.913155</td>\n",
              "      <td>6667.086968</td>\n",
              "      <td>6883.725208</td>\n",
              "      <td>609854.553605</td>\n",
              "      <td>6935.257228</td>\n",
              "      <td>6936.282983</td>\n",
              "      <td>2018</td>\n",
              "    </tr>\n",
              "    <tr>\n",
              "      <th>2</th>\n",
              "      <td>2018-03-29</td>\n",
              "      <td>7983.837144</td>\n",
              "      <td>7996.389607</td>\n",
              "      <td>7005.998073</td>\n",
              "      <td>7154.143491</td>\n",
              "      <td>531839.173256</td>\n",
              "      <td>7535.636043</td>\n",
              "      <td>7574.005265</td>\n",
              "      <td>2018</td>\n",
              "    </tr>\n",
              "    <tr>\n",
              "      <th>3</th>\n",
              "      <td>2018-03-28</td>\n",
              "      <td>7846.584324</td>\n",
              "      <td>8119.134881</td>\n",
              "      <td>7804.215096</td>\n",
              "      <td>7972.350959</td>\n",
              "      <td>275193.597624</td>\n",
              "      <td>7956.314335</td>\n",
              "      <td>7959.131977</td>\n",
              "      <td>2018</td>\n",
              "    </tr>\n",
              "    <tr>\n",
              "      <th>4</th>\n",
              "      <td>2018-03-27</td>\n",
              "      <td>8189.532364</td>\n",
              "      <td>8244.970320</td>\n",
              "      <td>7806.926140</td>\n",
              "      <td>7856.948846</td>\n",
              "      <td>357522.246911</td>\n",
              "      <td>8007.858721</td>\n",
              "      <td>8009.491882</td>\n",
              "      <td>2018</td>\n",
              "    </tr>\n",
              "    <tr>\n",
              "      <th>...</th>\n",
              "      <td>...</td>\n",
              "      <td>...</td>\n",
              "      <td>...</td>\n",
              "      <td>...</td>\n",
              "      <td>...</td>\n",
              "      <td>...</td>\n",
              "      <td>...</td>\n",
              "      <td>...</td>\n",
              "      <td>...</td>\n",
              "    </tr>\n",
              "    <tr>\n",
              "      <th>1181</th>\n",
              "      <td>2015-01-05</td>\n",
              "      <td>262.111956</td>\n",
              "      <td>276.912533</td>\n",
              "      <td>262.111956</td>\n",
              "      <td>272.161003</td>\n",
              "      <td>706159.699523</td>\n",
              "      <td>270.419283</td>\n",
              "      <td>270.369332</td>\n",
              "      <td>2015</td>\n",
              "    </tr>\n",
              "    <tr>\n",
              "      <th>1182</th>\n",
              "      <td>2015-01-04</td>\n",
              "      <td>280.648594</td>\n",
              "      <td>284.226130</td>\n",
              "      <td>256.436014</td>\n",
              "      <td>262.204562</td>\n",
              "      <td>946120.852240</td>\n",
              "      <td>271.347063</td>\n",
              "      <td>272.535540</td>\n",
              "      <td>2015</td>\n",
              "    </tr>\n",
              "    <tr>\n",
              "      <th>1183</th>\n",
              "      <td>2015-01-03</td>\n",
              "      <td>314.036747</td>\n",
              "      <td>314.054547</td>\n",
              "      <td>283.234550</td>\n",
              "      <td>283.234550</td>\n",
              "      <td>550269.195356</td>\n",
              "      <td>301.560252</td>\n",
              "      <td>303.284471</td>\n",
              "      <td>2015</td>\n",
              "    </tr>\n",
              "    <tr>\n",
              "      <th>1184</th>\n",
              "      <td>2015-01-02</td>\n",
              "      <td>313.298509</td>\n",
              "      <td>314.925323</td>\n",
              "      <td>312.753587</td>\n",
              "      <td>314.022867</td>\n",
              "      <td>223533.431312</td>\n",
              "      <td>313.934526</td>\n",
              "      <td>313.940831</td>\n",
              "      <td>2015</td>\n",
              "    </tr>\n",
              "    <tr>\n",
              "      <th>1185</th>\n",
              "      <td>2015-01-01</td>\n",
              "      <td>318.724668</td>\n",
              "      <td>318.770152</td>\n",
              "      <td>313.122075</td>\n",
              "      <td>313.326336</td>\n",
              "      <td>253845.174191</td>\n",
              "      <td>315.147863</td>\n",
              "      <td>315.103642</td>\n",
              "      <td>2015</td>\n",
              "    </tr>\n",
              "  </tbody>\n",
              "</table>\n",
              "<p>1186 rows × 9 columns</p>\n",
              "</div>\n",
              "      <button class=\"colab-df-convert\" onclick=\"convertToInteractive('df-3ae4441c-46f8-4658-9028-5250d5b287f1')\"\n",
              "              title=\"Convert this dataframe to an interactive table.\"\n",
              "              style=\"display:none;\">\n",
              "        \n",
              "  <svg xmlns=\"http://www.w3.org/2000/svg\" height=\"24px\"viewBox=\"0 0 24 24\"\n",
              "       width=\"24px\">\n",
              "    <path d=\"M0 0h24v24H0V0z\" fill=\"none\"/>\n",
              "    <path d=\"M18.56 5.44l.94 2.06.94-2.06 2.06-.94-2.06-.94-.94-2.06-.94 2.06-2.06.94zm-11 1L8.5 8.5l.94-2.06 2.06-.94-2.06-.94L8.5 2.5l-.94 2.06-2.06.94zm10 10l.94 2.06.94-2.06 2.06-.94-2.06-.94-.94-2.06-.94 2.06-2.06.94z\"/><path d=\"M17.41 7.96l-1.37-1.37c-.4-.4-.92-.59-1.43-.59-.52 0-1.04.2-1.43.59L10.3 9.45l-7.72 7.72c-.78.78-.78 2.05 0 2.83L4 21.41c.39.39.9.59 1.41.59.51 0 1.02-.2 1.41-.59l7.78-7.78 2.81-2.81c.8-.78.8-2.07 0-2.86zM5.41 20L4 18.59l7.72-7.72 1.47 1.35L5.41 20z\"/>\n",
              "  </svg>\n",
              "      </button>\n",
              "      \n",
              "  <style>\n",
              "    .colab-df-container {\n",
              "      display:flex;\n",
              "      flex-wrap:wrap;\n",
              "      gap: 12px;\n",
              "    }\n",
              "\n",
              "    .colab-df-convert {\n",
              "      background-color: #E8F0FE;\n",
              "      border: none;\n",
              "      border-radius: 50%;\n",
              "      cursor: pointer;\n",
              "      display: none;\n",
              "      fill: #1967D2;\n",
              "      height: 32px;\n",
              "      padding: 0 0 0 0;\n",
              "      width: 32px;\n",
              "    }\n",
              "\n",
              "    .colab-df-convert:hover {\n",
              "      background-color: #E2EBFA;\n",
              "      box-shadow: 0px 1px 2px rgba(60, 64, 67, 0.3), 0px 1px 3px 1px rgba(60, 64, 67, 0.15);\n",
              "      fill: #174EA6;\n",
              "    }\n",
              "\n",
              "    [theme=dark] .colab-df-convert {\n",
              "      background-color: #3B4455;\n",
              "      fill: #D2E3FC;\n",
              "    }\n",
              "\n",
              "    [theme=dark] .colab-df-convert:hover {\n",
              "      background-color: #434B5C;\n",
              "      box-shadow: 0px 1px 3px 1px rgba(0, 0, 0, 0.15);\n",
              "      filter: drop-shadow(0px 1px 2px rgba(0, 0, 0, 0.3));\n",
              "      fill: #FFFFFF;\n",
              "    }\n",
              "  </style>\n",
              "\n",
              "      <script>\n",
              "        const buttonEl =\n",
              "          document.querySelector('#df-3ae4441c-46f8-4658-9028-5250d5b287f1 button.colab-df-convert');\n",
              "        buttonEl.style.display =\n",
              "          google.colab.kernel.accessAllowed ? 'block' : 'none';\n",
              "\n",
              "        async function convertToInteractive(key) {\n",
              "          const element = document.querySelector('#df-3ae4441c-46f8-4658-9028-5250d5b287f1');\n",
              "          const dataTable =\n",
              "            await google.colab.kernel.invokeFunction('convertToInteractive',\n",
              "                                                     [key], {});\n",
              "          if (!dataTable) return;\n",
              "\n",
              "          const docLinkHtml = 'Like what you see? Visit the ' +\n",
              "            '<a target=\"_blank\" href=https://colab.research.google.com/notebooks/data_table.ipynb>data table notebook</a>'\n",
              "            + ' to learn more about interactive tables.';\n",
              "          element.innerHTML = '';\n",
              "          dataTable['output_type'] = 'display_data';\n",
              "          await google.colab.output.renderOutput(dataTable, element);\n",
              "          const docLink = document.createElement('div');\n",
              "          docLink.innerHTML = docLinkHtml;\n",
              "          element.appendChild(docLink);\n",
              "        }\n",
              "      </script>\n",
              "    </div>\n",
              "  </div>\n",
              "  "
            ]
          },
          "metadata": {},
          "execution_count": 46
        }
      ]
    }
  ]
}